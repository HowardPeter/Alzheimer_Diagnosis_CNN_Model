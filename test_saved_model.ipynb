{
 "cells": [
  {
   "cell_type": "code",
   "execution_count": 1,
   "metadata": {},
   "outputs": [],
   "source": [
    "import numpy as np\n",
    "import tensorflow as tf\n",
    "from pathlib import Path\n",
    "from keras._tf_keras.keras.preprocessing.image import load_img, img_to_array"
   ]
  },
  {
   "cell_type": "code",
   "execution_count": 2,
   "metadata": {},
   "outputs": [],
   "source": [
    "def load_img_array(img_path):\n",
    "    \"\"\"Hàm này load ảnh và resize về kích thước phù hợp với mô hình\"\"\"\n",
    "    img_size = (128, 128)\n",
    "    img = load_img(img_path, target_size=img_size)\n",
    "    img_array = img_to_array(img)\n",
    "    img_array = np.expand_dims(img_array, axis=0)\n",
    "    img_array = img_array / 255.0\n",
    "    return img_array\n",
    "\n",
    "def predict_single_image(model, img_path):\n",
    "    \"\"\"\n",
    "    Hàm này dự đoán nhãn của mẫu img trên model truyền vào\n",
    "    In ra xác suất dự đoán trên các nhãn và nhãn có xác suất cao nhất\n",
    "    \"\"\"\n",
    "    img_array = load_img_array(img_path)\n",
    "    \n",
    "    predictions = model.predict(img_array)\n",
    "    probabilities = predictions[0]\n",
    "\n",
    "    class_labels = ['Mild Impairment', 'Moderate Impairment', 'No Impairment', 'Very Mild Impairment']\n",
    "\n",
    "    for label, prob in zip(class_labels, probabilities):\n",
    "        print(f\"{label}: {prob:.2%}\")\n",
    "\n",
    "    predicted_label = class_labels[np.argmax(probabilities)]\n",
    "    print(f\"\\nPredicted Label: {predicted_label}\")"
   ]
  },
  {
   "cell_type": "code",
   "execution_count": 3,
   "metadata": {},
   "outputs": [
    {
     "name": "stderr",
     "output_type": "stream",
     "text": [
      "WARNING:absl:Compiled the loaded model, but the compiled metrics have yet to be built. `model.compile_metrics` will be empty until you train or evaluate the model.\n"
     ]
    }
   ],
   "source": [
    "custom_cnn = tf.keras.models.load_model('./Alzheimer_diagnosis_cnn_custom_model(99.33%).h5')"
   ]
  },
  {
   "cell_type": "code",
   "execution_count": null,
   "metadata": {},
   "outputs": [
    {
     "name": "stdout",
     "output_type": "stream",
     "text": [
      "\u001b[1m1/1\u001b[0m \u001b[32m━━━━━━━━━━━━━━━━━━━━\u001b[0m\u001b[37m\u001b[0m \u001b[1m0s\u001b[0m 370ms/step\n",
      "Mild Impairment: 0.00%\n",
      "Moderate Impairment: 0.00%\n",
      "No Impairment: 95.36%\n",
      "Very Mild Impairment: 4.64%\n",
      "\n",
      "Predicted Label: No Impairment\n"
     ]
    }
   ],
   "source": [
    "# img_path = Path('D:/PC/Documents/Tensorflow/Alzheimer Diagnosis CNN Model/Alzheimer Dataset (Augmented)/OriginalDataset/Mild Impairment/mildDem167.jpg')\n",
    "img_path = Path(\"D:/PC/Documents/Tensorflow/Alzheimer Diagnosis CNN Model/Alzheimer Dataset/test/No Impairment/1 (47).jpg\")\n",
    "predict_single_image(custom_cnn, img_path)"
   ]
  }
 ],
 "metadata": {
  "kernelspec": {
   "display_name": "Python 3",
   "language": "python",
   "name": "python3"
  },
  "language_info": {
   "codemirror_mode": {
    "name": "ipython",
    "version": 3
   },
   "file_extension": ".py",
   "mimetype": "text/x-python",
   "name": "python",
   "nbconvert_exporter": "python",
   "pygments_lexer": "ipython3",
   "version": "3.12.0"
  }
 },
 "nbformat": 4,
 "nbformat_minor": 2
}
